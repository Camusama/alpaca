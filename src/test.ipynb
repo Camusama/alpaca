{
 "cells": [
  {
   "cell_type": "code",
   "execution_count": 1,
   "metadata": {},
   "outputs": [],
   "source": [
    "# Please change the following to your own PAPER api key and secret\n",
    "# or set them as environment variables (ALPACA_API_KEY, ALPACA_SECRET_KEY).\n",
    "# You can get them from https://alpaca.markets/\n",
    "from dotenv import load_dotenv, find_dotenv\n",
    "load_dotenv(find_dotenv(), override=True)\n",
    "api_key = None\n",
    "secret_key = None\n",
    "TRADE_API_KEY=api_key\n",
    "TRADE_API_SECRET=secret_key\n",
    "\n",
    "#### We use paper environment for this example ####\n",
    "paper = True # Please do not modify this. This example is for paper trading only.\n",
    "####\n",
    "\n",
    "# Below are the variables for development this documents\n",
    "# Please do not change these variables\n",
    "\n",
    "trade_api_url = None\n",
    "trade_api_wss = None\n",
    "data_api_url = None\n",
    "option_stream_data_wss = None\n",
    "\n",
    "import os\n",
    "\n",
    "if api_key is None:\n",
    "    TRADE_API_KEY = os.environ.get('ALPACA_API_KEY')\n",
    "\n",
    "if secret_key is None:\n",
    "    TRADE_API_SECRET = os.environ.get('ALPACA_SECRET_KEY')"
   ]
  },
  {
   "cell_type": "code",
   "execution_count": 2,
   "metadata": {},
   "outputs": [],
   "source": [
    "# install alpaca-py if it is not available\n",
    "try:\n",
    "    import alpaca\n",
    "except ImportError:\n",
    "    !python3 -m pip install alpaca-py\n",
    "    import alpaca"
   ]
  },
  {
   "cell_type": "code",
   "execution_count": 3,
   "metadata": {},
   "outputs": [
    {
     "data": {
      "text/plain": [
       "'0.37.0'"
      ]
     },
     "execution_count": 3,
     "metadata": {},
     "output_type": "execute_result"
    }
   ],
   "source": [
    "import json\n",
    "from datetime import datetime, timedelta\n",
    "from zoneinfo import ZoneInfo\n",
    "\n",
    "from alpaca.trading.client import TradingClient\n",
    "from alpaca.data.timeframe import TimeFrame, TimeFrameUnit\n",
    "from alpaca.data.historical.option import OptionHistoricalDataClient\n",
    "from alpaca.trading.stream import TradingStream\n",
    "from alpaca.data.live.option import OptionDataStream\n",
    "\n",
    "from alpaca.data.requests import (\n",
    "    OptionBarsRequest,\n",
    "    OptionTradesRequest,\n",
    "    OptionLatestQuoteRequest,\n",
    "    OptionLatestTradeRequest,\n",
    "    OptionSnapshotRequest,\n",
    "    OptionChainRequest    \n",
    ")\n",
    "from alpaca.trading.requests import (\n",
    "    GetOptionContractsRequest,\n",
    "    GetAssetsRequest,\n",
    "    MarketOrderRequest,\n",
    "    GetOrdersRequest,\n",
    "    ClosePositionRequest\n",
    ")\n",
    "from alpaca.trading.enums import (\n",
    "    AssetStatus,\n",
    "    ExerciseStyle,\n",
    "    OrderSide,\n",
    "    OrderType,\n",
    "    TimeInForce,\n",
    "    QueryOrderStatus \n",
    ")\n",
    "from alpaca.common.exceptions import APIError\n",
    "import time\n",
    "import asyncio\n",
    "import pandas as pd\n",
    "import numpy as np\n",
    "from scipy.stats import norm\n",
    "from scipy.optimize import brentq\n",
    "import nest_asyncio\n",
    "from alpaca.data.historical.option import OptionHistoricalDataClient, OptionLatestQuoteRequest\n",
    "from alpaca.data.historical.stock import StockHistoricalDataClient, StockLatestTradeRequest\n",
    "from alpaca.trading.models import TradeUpdate\n",
    "from alpaca.trading.client import TradingClient\n",
    "from alpaca.trading.stream import TradingStream\n",
    "from alpaca.trading.requests import GetOptionContractsRequest, MarketOrderRequest\n",
    "from alpaca.trading.enums import AssetStatus, ContractType, AssetClass\n",
    "# to run async code in jupyter notebook\n",
    "import nest_asyncio\n",
    "nest_asyncio.apply()\n",
    "# check version of alpaca-py\n",
    "alpaca.__version__"
   ]
  },
  {
   "cell_type": "code",
   "execution_count": 4,
   "metadata": {},
   "outputs": [],
   "source": [
    "# Initialize Alpaca clients\n",
    "\n",
    "trading_client = TradingClient(api_key=TRADE_API_KEY, secret_key=TRADE_API_SECRET, paper=paper)\n",
    "trade_update_stream = TradingStream(api_key=TRADE_API_KEY, secret_key=TRADE_API_SECRET, paper=paper)\n",
    "stock_data_client = StockHistoricalDataClient(api_key=TRADE_API_KEY, secret_key=TRADE_API_SECRET)\n",
    "option_data_client = OptionHistoricalDataClient(api_key=TRADE_API_KEY, secret_key=TRADE_API_SECRET)"
   ]
  },
  {
   "cell_type": "code",
   "execution_count": 5,
   "metadata": {},
   "outputs": [],
   "source": [
    "# Configuration\n",
    "\n",
    "underlying_symbol = \"NVDA\"\n",
    "max_abs_notional_delta = 200\n",
    "risk_free_rate = 0.045\n",
    "positions = {}\n",
    "stock_trades = {\n",
    "    'avg_price': 0.0,\n",
    "    'total_shares': 0.0,\n",
    "    'realized_pnl': 0.0\n",
    "}"
   ]
  },
  {
   "cell_type": "code",
   "execution_count": 9,
   "metadata": {},
   "outputs": [
    {
     "name": "stdout",
     "output_type": "stream",
     "text": [
      "get_unrealized_pl NVDA\n",
      "current_entry_price: $122.46\n",
      "Equity P&L: $-613.29\n",
      "Option P&L: $589.00\n",
      "Total P&L: $-24.29\n"
     ]
    },
    {
     "ename": "",
     "evalue": "",
     "output_type": "error",
     "traceback": [
      "\u001b[1;31mThe Kernel crashed while executing code in the current cell or a previous cell. \n",
      "\u001b[1;31mPlease review the code in the cell(s) to identify a possible cause of the failure. \n",
      "\u001b[1;31mClick <a href='https://aka.ms/vscodeJupyterKernelCrash'>here</a> for more info. \n",
      "\u001b[1;31mView Jupyter <a href='command:jupyter.viewOutput'>log</a> for further details."
     ]
    }
   ],
   "source": [
    "#liquidate existing positions\n",
    "def get_unrealized_pl():\n",
    "  print(f\"get_unrealized_pl {underlying_symbol}\")\n",
    "  equity_pl =0.0\n",
    "  option_pl = 0.0 \n",
    "  all_positions = trading_client.get_all_positions()\n",
    "  current_entry_price = 0.0\n",
    "  # print(all_positions)\n",
    "  for p in all_positions:\n",
    "        if(underlying_symbol not in p.symbol):\n",
    "            continue\n",
    "        if p.asset_class == AssetClass.US_OPTION:   \n",
    "          option_pl += float(p.unrealized_pl)\n",
    "          # print(p)\n",
    "        elif p.asset_class == AssetClass.US_EQUITY or p.asset_class == AssetClass.CRYPTO:\n",
    "          equity_pl =float(p.unrealized_pl)\n",
    "          current_entry_price=float(p.avg_entry_price)\n",
    "        # print(p)\n",
    "  print(f\"current_entry_price: ${current_entry_price:.2f}\")\n",
    "  print(f\"Equity P&L: ${equity_pl:.2f}\")\n",
    "  print(f\"Option P&L: ${option_pl:.2f}\")\n",
    "  print(f\"Total P&L: ${equity_pl + option_pl:.2f}\")\n",
    "get_unrealized_pl()"
   ]
  },
  {
   "cell_type": "code",
   "execution_count": null,
   "metadata": {},
   "outputs": [],
   "source": []
  }
 ],
 "metadata": {
  "kernelspec": {
   "display_name": "base",
   "language": "python",
   "name": "python3"
  },
  "language_info": {
   "codemirror_mode": {
    "name": "ipython",
    "version": 3
   },
   "file_extension": ".py",
   "mimetype": "text/x-python",
   "name": "python",
   "nbconvert_exporter": "python",
   "pygments_lexer": "ipython3",
   "version": "3.9.19"
  }
 },
 "nbformat": 4,
 "nbformat_minor": 2
}
