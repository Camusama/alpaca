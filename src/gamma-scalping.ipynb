{
 "cells": [
  {
   "cell_type": "code",
   "execution_count": 1,
   "metadata": {},
   "outputs": [],
   "source": [
    "# Please change the following to your own PAPER api key and secret\n",
    "# or set them as environment variables (ALPACA_API_KEY, ALPACA_SECRET_KEY).\n",
    "# You can get them from https://alpaca.markets/\n",
    "from dotenv import load_dotenv, find_dotenv\n",
    "load_dotenv(find_dotenv(), override=True)\n",
    "api_key = None\n",
    "secret_key = None\n",
    "TRADE_API_KEY=api_key\n",
    "TRADE_API_SECRET=secret_key\n",
    "\n",
    "#### We use paper environment for this example ####\n",
    "paper = True # Please do not modify this. This example is for paper trading only.\n",
    "####\n",
    "\n",
    "# Below are the variables for development this documents\n",
    "# Please do not change these variables\n",
    "\n",
    "trade_api_url = None\n",
    "trade_api_wss = None\n",
    "data_api_url = None\n",
    "option_stream_data_wss = None"
   ]
  },
  {
   "cell_type": "code",
   "execution_count": 2,
   "metadata": {},
   "outputs": [],
   "source": [
    "import os\n",
    "\n",
    "if api_key is None:\n",
    "    TRADE_API_KEY = os.environ.get('ALPACA_API_KEY')\n",
    "\n",
    "if secret_key is None:\n",
    "    TRADE_API_SECRET = os.environ.get('ALPACA_SECRET_KEY')"
   ]
  },
  {
   "cell_type": "code",
   "execution_count": 3,
   "metadata": {},
   "outputs": [],
   "source": [
    "# install alpaca-py if it is not available\n",
    "try:\n",
    "    import alpaca\n",
    "except ImportError:\n",
    "    !python3 -m pip install alpaca-py\n",
    "    import alpaca"
   ]
  },
  {
   "cell_type": "code",
   "execution_count": 4,
   "metadata": {},
   "outputs": [
    {
     "data": {
      "text/plain": [
       "'0.37.0'"
      ]
     },
     "execution_count": 4,
     "metadata": {},
     "output_type": "execute_result"
    }
   ],
   "source": [
    "import json\n",
    "from datetime import datetime, timedelta\n",
    "from zoneinfo import ZoneInfo\n",
    "\n",
    "from alpaca.trading.client import TradingClient\n",
    "from alpaca.data.timeframe import TimeFrame, TimeFrameUnit\n",
    "from alpaca.data.historical.option import OptionHistoricalDataClient\n",
    "from alpaca.trading.stream import TradingStream\n",
    "from alpaca.data.live.option import OptionDataStream\n",
    "\n",
    "from alpaca.data.requests import (\n",
    "    OptionBarsRequest,\n",
    "    OptionTradesRequest,\n",
    "    OptionLatestQuoteRequest,\n",
    "    OptionLatestTradeRequest,\n",
    "    OptionSnapshotRequest,\n",
    "    OptionChainRequest    \n",
    ")\n",
    "from alpaca.trading.requests import (\n",
    "    GetOptionContractsRequest,\n",
    "    GetAssetsRequest,\n",
    "    MarketOrderRequest,\n",
    "    GetOrdersRequest,\n",
    "    ClosePositionRequest\n",
    ")\n",
    "from alpaca.trading.enums import (\n",
    "    AssetStatus,\n",
    "    ExerciseStyle,\n",
    "    OrderSide,\n",
    "    OrderType,\n",
    "    TimeInForce,\n",
    "    QueryOrderStatus \n",
    ")\n",
    "from alpaca.common.exceptions import APIError\n",
    "import time\n",
    "import asyncio\n",
    "import pandas as pd\n",
    "import numpy as np\n",
    "from scipy.stats import norm\n",
    "from scipy.optimize import brentq\n",
    "import nest_asyncio\n",
    "from alpaca.data.historical.option import OptionHistoricalDataClient, OptionLatestQuoteRequest\n",
    "from alpaca.data.historical.stock import StockHistoricalDataClient, StockLatestTradeRequest\n",
    "from alpaca.trading.models import TradeUpdate\n",
    "from alpaca.trading.client import TradingClient\n",
    "from alpaca.trading.stream import TradingStream\n",
    "from alpaca.trading.requests import GetOptionContractsRequest, MarketOrderRequest\n",
    "from alpaca.trading.enums import AssetStatus, ContractType, AssetClass\n",
    "# to run async code in jupyter notebook\n",
    "import nest_asyncio\n",
    "nest_asyncio.apply()\n",
    "# check version of alpaca-py\n",
    "alpaca.__version__"
   ]
  },
  {
   "cell_type": "code",
   "execution_count": 5,
   "metadata": {},
   "outputs": [],
   "source": [
    "# Initialize Alpaca clients\n",
    "\n",
    "trading_client = TradingClient(api_key=TRADE_API_KEY, secret_key=TRADE_API_SECRET, paper=paper)\n",
    "trade_update_stream = TradingStream(api_key=TRADE_API_KEY, secret_key=TRADE_API_SECRET, paper=paper)\n",
    "stock_data_client = StockHistoricalDataClient(api_key=TRADE_API_KEY, secret_key=TRADE_API_SECRET)\n",
    "option_data_client = OptionHistoricalDataClient(api_key=TRADE_API_KEY, secret_key=TRADE_API_SECRET)"
   ]
  },
  {
   "cell_type": "code",
   "execution_count": 6,
   "metadata": {},
   "outputs": [],
   "source": [
    "# Configuration\n",
    "\n",
    "underlying_symbol = \"NVDA\"\n",
    "max_abs_notional_delta = 300\n",
    "risk_free_rate = 0.045\n",
    "positions = {}\n",
    "stock_trades = {\n",
    "    'avg_price': 0.0,\n",
    "    'total_shares': 0.0,\n",
    "    'realized_pnl': 0.0\n",
    "}\n",
    "hasInitOption=False\n",
    "option_number=6"
   ]
  },
  {
   "cell_type": "code",
   "execution_count": 7,
   "metadata": {},
   "outputs": [
    {
     "name": "stdout",
     "output_type": "stream",
     "text": [
      "Liquidating pre-existing positions related to underlying NVDA\n",
      "Liquidating -223 of NVDA\n",
      "Liquidating 1 of NVDA250221C00122000\n",
      "Liquidating 1 of NVDA250221C00123000\n",
      "Liquidating 1 of NVDA250221C00124000\n",
      "Liquidating 1 of NVDA250221C00125000\n",
      "Liquidating 1 of NVDA250221C00126000\n",
      "Liquidating 1 of NVDA250221C00127000\n"
     ]
    }
   ],
   "source": [
    "#liquidate existing positions\n",
    "\n",
    "print(f\"Liquidating pre-existing positions related to underlying {underlying_symbol}\")\n",
    "all_positions = trading_client.get_all_positions()\n",
    "\n",
    "for p in all_positions:\n",
    "    if p.asset_class == AssetClass.US_OPTION:\n",
    "        option_contract = trading_client.get_option_contract(p.symbol)\n",
    "        if option_contract.underlying_symbol == underlying_symbol:\n",
    "            print(f\"Liquidating {p.qty} of {p.symbol}\")\n",
    "            trading_client.close_position(p.symbol)\n",
    "    elif p.asset_class == AssetClass.US_EQUITY:\n",
    "        if p.symbol == underlying_symbol:\n",
    "            print(f\"Liquidating {p.qty} of {p.symbol}\")\n",
    "            trading_client.close_position(p.symbol)"
   ]
  },
  {
   "cell_type": "code",
   "execution_count": 8,
   "metadata": {},
   "outputs": [
    {
     "name": "stdout",
     "output_type": "stream",
     "text": [
      "Adding NVDA to position list\n"
     ]
    }
   ],
   "source": [
    "# Add underlying symbol to positions list\n",
    "\n",
    "print(f\"Adding {underlying_symbol} to position list\")\n",
    "positions[underlying_symbol] = {'asset_class': 'us_equity', 'position': 0, 'initial_position': 0}\n",
    "# Set expiration range for options\n",
    "\n",
    "today = datetime.now().date()\n",
    "min_expiration = today + timedelta(days=14)\n",
    "max_expiration = today + timedelta(days=60)\n"
   ]
  },
  {
   "cell_type": "code",
   "execution_count": 9,
   "metadata": {},
   "outputs": [
    {
     "name": "stdout",
     "output_type": "stream",
     "text": [
      "NVDA price: 118.69\n",
      "Min Expiration: 2025-02-19, Max Expiration: 2025-04-06, Min Strike: 119.88\n"
     ]
    }
   ],
   "source": [
    "# Get the latest price of the underlying stock\n",
    "\n",
    "def get_underlying_price(symbol):\n",
    "\n",
    "    underlying_trade_request = StockLatestTradeRequest(symbol_or_symbols=symbol)\n",
    "    underlying_trade_response = stock_data_client.get_stock_latest_trade(underlying_trade_request)\n",
    "    return underlying_trade_response[symbol].price\n",
    "\n",
    "underlying_price = get_underlying_price(underlying_symbol)\n",
    "min_strike = round(underlying_price * 1.01, 2)\n",
    "\n",
    "print(f\"{underlying_symbol} price: {underlying_price}\")\n",
    "print(f\"Min Expiration: {min_expiration}, Max Expiration: {max_expiration}, Min Strike: {min_strike}\")"
   ]
  },
  {
   "cell_type": "code",
   "execution_count": 10,
   "metadata": {},
   "outputs": [],
   "source": [
    "# Search for option contracts to add to the portfolio\n",
    "\n",
    "req = GetOptionContractsRequest(\n",
    "    underlying_symbols=[underlying_symbol],\n",
    "    status=AssetStatus.ACTIVE,\n",
    "    expiration_date_gte=min_expiration,\n",
    "    expiration_date_lte=max_expiration,\n",
    "    root_symbol=underlying_symbol,\n",
    "    type=ContractType.CALL,\n",
    "    strike_price_gte=str(min_strike),\n",
    "    limit=option_number+1,\n",
    ")\n",
    "\n",
    "option_chain_list = trading_client.get_option_contracts(req).option_contracts"
   ]
  },
  {
   "cell_type": "code",
   "execution_count": 11,
   "metadata": {},
   "outputs": [
    {
     "name": "stdout",
     "output_type": "stream",
     "text": [
      "Adding NVDA250221C00120000 to position list id='f7917387-9603-4a21-befc-2b332bbe1215' symbol='NVDA250221C00120000' name='NVDA Feb 21 2025 120 Call' status=<AssetStatus.ACTIVE: 'active'> tradable=True expiration_date=datetime.date(2025, 2, 21) root_symbol='NVDA' underlying_symbol='NVDA' underlying_asset_id=UUID('4ce9353c-66d1-46c2-898f-fce867ab0247') type=<ContractType.CALL: 'call'> style=<ExerciseStyle.AMERICAN: 'american'> strike_price=120.0 size='100' open_interest='42354' open_interest_date=datetime.date(2025, 1, 31) close_price='4.92' close_price_date=datetime.date(2025, 2, 3)\n",
      "Adding NVDA250221C00121000 to position list id='775754a3-50e2-465c-a679-503e54d65b16' symbol='NVDA250221C00121000' name='NVDA Feb 21 2025 121 Call' status=<AssetStatus.ACTIVE: 'active'> tradable=True expiration_date=datetime.date(2025, 2, 21) root_symbol='NVDA' underlying_symbol='NVDA' underlying_asset_id=UUID('4ce9353c-66d1-46c2-898f-fce867ab0247') type=<ContractType.CALL: 'call'> style=<ExerciseStyle.AMERICAN: 'american'> strike_price=121.0 size='100' open_interest='10395' open_interest_date=datetime.date(2025, 1, 31) close_price='4.46' close_price_date=datetime.date(2025, 2, 3)\n",
      "Adding NVDA250221C00122000 to position list id='dcc3fa31-9c6c-4361-ac1e-02b18ced83bb' symbol='NVDA250221C00122000' name='NVDA Feb 21 2025 122 Call' status=<AssetStatus.ACTIVE: 'active'> tradable=True expiration_date=datetime.date(2025, 2, 21) root_symbol='NVDA' underlying_symbol='NVDA' underlying_asset_id=UUID('4ce9353c-66d1-46c2-898f-fce867ab0247') type=<ContractType.CALL: 'call'> style=<ExerciseStyle.AMERICAN: 'american'> strike_price=122.0 size='100' open_interest='8885' open_interest_date=datetime.date(2025, 1, 31) close_price='4.15' close_price_date=datetime.date(2025, 2, 3)\n",
      "Adding NVDA250221C00123000 to position list id='601935fb-a49f-4211-8221-ab18c6cf957c' symbol='NVDA250221C00123000' name='NVDA Feb 21 2025 123 Call' status=<AssetStatus.ACTIVE: 'active'> tradable=True expiration_date=datetime.date(2025, 2, 21) root_symbol='NVDA' underlying_symbol='NVDA' underlying_asset_id=UUID('4ce9353c-66d1-46c2-898f-fce867ab0247') type=<ContractType.CALL: 'call'> style=<ExerciseStyle.AMERICAN: 'american'> strike_price=123.0 size='100' open_interest='8952' open_interest_date=datetime.date(2025, 1, 31) close_price='3.75' close_price_date=datetime.date(2025, 2, 3)\n",
      "Adding NVDA250221C00124000 to position list id='819c7f5f-abbc-49e0-a3d4-fd9fc2c1ca3f' symbol='NVDA250221C00124000' name='NVDA Feb 21 2025 124 Call' status=<AssetStatus.ACTIVE: 'active'> tradable=True expiration_date=datetime.date(2025, 2, 21) root_symbol='NVDA' underlying_symbol='NVDA' underlying_asset_id=UUID('4ce9353c-66d1-46c2-898f-fce867ab0247') type=<ContractType.CALL: 'call'> style=<ExerciseStyle.AMERICAN: 'american'> strike_price=124.0 size='100' open_interest='12496' open_interest_date=datetime.date(2025, 1, 31) close_price='3.4' close_price_date=datetime.date(2025, 2, 3)\n",
      "Adding NVDA250221C00125000 to position list id='3515ad35-9c17-49ca-a8f4-6f300d020931' symbol='NVDA250221C00125000' name='NVDA Feb 21 2025 125 Call' status=<AssetStatus.ACTIVE: 'active'> tradable=True expiration_date=datetime.date(2025, 2, 21) root_symbol='NVDA' underlying_symbol='NVDA' underlying_asset_id=UUID('4ce9353c-66d1-46c2-898f-fce867ab0247') type=<ContractType.CALL: 'call'> style=<ExerciseStyle.AMERICAN: 'american'> strike_price=125.0 size='100' open_interest='178521' open_interest_date=datetime.date(2025, 1, 31) close_price='3.15' close_price_date=datetime.date(2025, 2, 3)\n"
     ]
    }
   ],
   "source": [
    "# Add the first 3 options to the position list\n",
    "\n",
    "for option in option_chain_list[:option_number]:\n",
    "    symbol = option.symbol\n",
    "    print(f\"Adding {symbol} to position list\",option)\n",
    "    positions[symbol] = {\n",
    "        'asset_class': 'us_option',\n",
    "        'underlying_symbol': option.underlying_symbol,\n",
    "        'expiration_date': pd.Timestamp(option.expiration_date),\n",
    "        'strike_price': float(option.strike_price),\n",
    "        'type': option.type,\n",
    "        'size': float(option.size),\n",
    "        'position': 1.0,\n",
    "        'initial_position': 1.0,\n",
    "        'name': option.name,\n",
    "    }"
   ]
  },
  {
   "cell_type": "code",
   "execution_count": 12,
   "metadata": {},
   "outputs": [],
   "source": [
    "# Calculate implied volatility\n",
    "\n",
    "def calculate_implied_volatility(option_price, S, K, T, r, option_type):\n",
    "    def option_price_diff(sigma):\n",
    "        d1 = (np.log(S / K) + (r + 0.5 * sigma ** 2) * T) / (sigma * np.sqrt(T))\n",
    "        d2 = d1 - sigma * np.sqrt(T)\n",
    "        if option_type == 'call':\n",
    "            price = S * norm.cdf(d1) - K * np.exp(-r * T) * norm.cdf(d2)\n",
    "        elif option_type == 'put':\n",
    "            price = K * np.exp(-r * T) * norm.cdf(-d2) - S * norm.cdf(-d1)\n",
    "        return price - option_price\n",
    "\n",
    "    return brentq(option_price_diff, 1e-6, 1)"
   ]
  },
  {
   "cell_type": "code",
   "execution_count": 13,
   "metadata": {},
   "outputs": [],
   "source": [
    "# Calculate option Greeks (Delta and Gamma)\n",
    "\n",
    "def calculate_greeks(option_price, strike_price, expiry, underlying_price, risk_free_rate, option_type):\n",
    "    T = (expiry - pd.Timestamp.now()).days / 365\n",
    "    implied_volatility = calculate_implied_volatility(option_price, underlying_price, strike_price, T, risk_free_rate, option_type)\n",
    "    d1 = (np.log(underlying_price / strike_price) + (risk_free_rate + 0.5 * implied_volatility ** 2) * T) / (implied_volatility * np.sqrt(T))\n",
    "    d2 = d1 - implied_volatility * np.sqrt(T)\n",
    "    delta = norm.cdf(d1) if option_type == 'call' else -norm.cdf(-d1)\n",
    "    gamma = norm.pdf(d1) / (underlying_price * implied_volatility * np.sqrt(T))\n",
    "    return delta, gamma"
   ]
  },
  {
   "cell_type": "code",
   "execution_count": 14,
   "metadata": {},
   "outputs": [],
   "source": [
    "\n",
    "def get_unrealized_pl():\n",
    "  print(f\"get_unrealized_pl {underlying_symbol}\")\n",
    "  equity_pl =0.0\n",
    "  option_pl = 0.0 \n",
    "  all_positions = trading_client.get_all_positions()\n",
    "  current_entry_price = 0.0\n",
    "  # print(all_positions)\n",
    "  for p in all_positions:\n",
    "        if(underlying_symbol not in p.symbol):\n",
    "            continue\n",
    "        if p.asset_class == AssetClass.US_OPTION:   \n",
    "          option_pl += float(p.unrealized_pl)\n",
    "          # print(p)\n",
    "        elif p.asset_class == AssetClass.US_EQUITY or p.asset_class == AssetClass.CRYPTO:\n",
    "          equity_pl =float(p.unrealized_pl)\n",
    "          current_entry_price=float(p.avg_entry_price)\n",
    "        # print(p)\n",
    "\n",
    "  stock_trades['avg_price']= current_entry_price\n",
    "  print(f\"Average Cost:: ${current_entry_price:.2f} , {stock_trades['avg_price']}\")\n",
    "  print(f\"Equity P&L: ${equity_pl:.2f}\")\n",
    "  print(f\"Option P&L: ${option_pl:.2f}\")\n",
    "  print(f\"Total P&L: ${equity_pl + option_pl:.2f}\")"
   ]
  },
  {
   "cell_type": "code",
   "execution_count": 15,
   "metadata": {},
   "outputs": [],
   "source": [
    "# Handle trade updates\n",
    "async def on_trade_updates(data: TradeUpdate):\n",
    "    global hasInitOption\n",
    "    symbol = data.order.symbol\n",
    "    if symbol in positions:\n",
    "        if data.event in {'fill', 'partial_fill'}:\n",
    "            side = data.order.side\n",
    "            qty = float(data.order.qty)\n",
    "            filled_avg_price = float(data.order.filled_avg_price)\n",
    "            position_qty = float(data.position_qty)\n",
    "            print(f\"{data.event} event: {side} {qty} {symbol} @ {filled_avg_price}\")\n",
    "            print(f\"updating position from {positions[symbol]['position']} to {position_qty}\")\n",
    "            positions[symbol]['position'] = float(position_qty)\n",
    "\n",
    "            if underlying_symbol in symbol and data.order.asset_class == AssetClass.US_OPTION:\n",
    "                hasInitOption = True\n",
    "            if symbol == underlying_symbol and data.order.asset_class == AssetClass.US_EQUITY:\n",
    "                changedQty= position_qty - stock_trades['total_shares']\n",
    "                if changedQty > 0:\n",
    "                    # buy 套利， sell 补仓 ，大于0表示 buy\n",
    "                    profit = (stock_trades['avg_price'] - filled_avg_price) * changedQty\n",
    "                    stock_trades['realized_pnl'] += profit\n",
    "                #更新stock_trades['avg_price']\n",
    "                # stock_trades['avg_price']= ((stock_trades['avg_price']*stock_trades['total_shares'])+ (filled_avg_price*changedQty))/(position_qty)\n",
    "                stock_trades['total_shares'] = position_qty\n",
    "                # print(f\"Average Cost: ${stock_trades['avg_price']:.2f}\")\n",
    "                print(f\"Total Share:  ${stock_trades['total_shares']:.2f}\")\n",
    "                print(f\"Realized P&L: ${stock_trades['realized_pnl']:.2f}\")\n",
    "                get_unrealized_pl()\n",
    "    \n",
    "\n",
    "trade_update_stream.subscribe_trade_updates(on_trade_updates)"
   ]
  },
  {
   "cell_type": "code",
   "execution_count": 16,
   "metadata": {},
   "outputs": [
    {
     "name": "stdout",
     "output_type": "stream",
     "text": [
      "Average Cost: $0.00\n",
      "Total Share:  $0.00\n",
      "Realized P&L: $0.00\n"
     ]
    }
   ],
   "source": [
    "def print_trades():\n",
    "  print(f\"Average Cost: ${stock_trades['avg_price']:.2f}\")\n",
    "  print(f\"Total Share:  ${stock_trades['total_shares']:.2f}\")\n",
    "  print(f\"Realized P&L: ${stock_trades['realized_pnl']:.2f}\")\n",
    "print_trades()"
   ]
  },
  {
   "cell_type": "code",
   "execution_count": 17,
   "metadata": {},
   "outputs": [],
   "source": [
    "# Execute initial trades\n",
    "async def initial_trades():\n",
    "    global hasInitOption\n",
    "    await asyncio.sleep(5)\n",
    "    print(\"executing initial option trades\",positions.items())\n",
    "    for symbol, pos in positions.items():\n",
    "        if pos['asset_class'] == 'us_option' and pos['initial_position'] != 0:\n",
    "            side = 'buy' if pos['initial_position'] > 0 else 'sell'\n",
    "            order_request = MarketOrderRequest(\n",
    "                symbol=symbol,\n",
    "                qty=abs(pos['initial_position']),\n",
    "                side=side,\n",
    "                type='market',\n",
    "                time_in_force='day'\n",
    "            )\n",
    "            print(f\"Submitting order to {side} {abs(pos['initial_position'])} contracts of {symbol} at market\")\n",
    "            # try:\n",
    "            trading_client.submit_order(order_request)\n",
    "            hasInitOption=True\n",
    "               \n",
    "            # except:\n",
    "            #     print(f\"Failed to submit option order\")\n",
    "           "
   ]
  },
  {
   "cell_type": "code",
   "execution_count": 18,
   "metadata": {},
   "outputs": [],
   "source": [
    "# Maintain delta-neutral strategy\n",
    "\n",
    "def maintain_delta_neutral():\n",
    "    current_delta = 0.0\n",
    "    underlying_price = get_underlying_price(underlying_symbol)\n",
    "\n",
    "    print(f\"Current price of {underlying_symbol} is {underlying_price}\")\n",
    "\n",
    "    for symbol, pos in positions.items():\n",
    "        if pos['asset_class'] == 'us_equity' and symbol == underlying_symbol:\n",
    "            current_delta += pos['position']\n",
    "        elif pos['asset_class'] == 'us_option' and pos['underlying_symbol'] == underlying_symbol:\n",
    "            option_quote_request = OptionLatestQuoteRequest(symbol_or_symbols=symbol)\n",
    "            option_quote = option_data_client.get_option_latest_quote(option_quote_request)[symbol]\n",
    "            option_quote_mid = (option_quote.bid_price + option_quote.ask_price) / 2\n",
    "\n",
    "            delta, gamma = calculate_greeks(\n",
    "                option_price=option_quote_mid,\n",
    "                strike_price=pos['strike_price'],\n",
    "                expiry=pos['expiration_date'],\n",
    "                underlying_price=underlying_price,\n",
    "                risk_free_rate=risk_free_rate,\n",
    "                option_type=pos['type']\n",
    "            )\n",
    "\n",
    "            current_delta += delta * pos['position'] * pos['size']\n",
    "    # try:\n",
    "    #     adjust_delta(current_delta, underlying_price)\n",
    "    # except:\n",
    "    #     raise Exception(f\"{underlying_symbol} maintain_delta_neutral\")\n",
    "    print('maintain_delta_neutral',current_delta, underlying_price)\n",
    "    adjust_delta(current_delta, underlying_price)\n",
    "\n",
    "def adjust_delta(current_delta, underlying_price):\n",
    "    \n",
    "    if current_delta * underlying_price > max_abs_notional_delta:\n",
    "        side = 'sell'\n",
    "    elif current_delta * underlying_price < -max_abs_notional_delta:\n",
    "        side = 'buy'\n",
    "    else:\n",
    "        return\n",
    "\n",
    "    qty = abs(round(current_delta,0))\n",
    "    order_request = MarketOrderRequest(symbol=underlying_symbol, qty=qty, side=side, type='market', time_in_force='day')\n",
    "    if hasInitOption==False:\n",
    "        print(f\"{underlying_symbol} no options, return\")\n",
    "        raise Exception(f\"{underlying_symbol} no options, return\")\n",
    "    print(f\"Submitting {side} order for {qty} shares of {underlying_symbol} at market\")\n",
    "    trading_client.submit_order(order_request)"
   ]
  },
  {
   "cell_type": "code",
   "execution_count": 19,
   "metadata": {},
   "outputs": [],
   "source": [
    "# Gamma scalping strategy\n",
    "\n",
    "async def gamma_scalp(initial_interval=10, interval=30):\n",
    "    running=True\n",
    "    await asyncio.sleep(initial_interval)\n",
    "\n",
    "    maintain_delta_neutral()\n",
    "    while running==True:\n",
    "        try:\n",
    "            await asyncio.sleep(interval)\n",
    "            maintain_delta_neutral()\n",
    "        except:\n",
    "            print(\"gamma_scalp no options, return\")\n",
    "            running = False"
   ]
  },
  {
   "cell_type": "code",
   "execution_count": null,
   "metadata": {},
   "outputs": [
    {
     "name": "stdout",
     "output_type": "stream",
     "text": [
      "executing initial option trades dict_items([('NVDA', {'asset_class': 'us_equity', 'position': 0, 'initial_position': 0}), ('NVDA250221C00120000', {'asset_class': 'us_option', 'underlying_symbol': 'NVDA', 'expiration_date': Timestamp('2025-02-21 00:00:00'), 'strike_price': 120.0, 'type': <ContractType.CALL: 'call'>, 'size': 100.0, 'position': 1.0, 'initial_position': 1.0, 'name': 'NVDA Feb 21 2025 120 Call'}), ('NVDA250221C00121000', {'asset_class': 'us_option', 'underlying_symbol': 'NVDA', 'expiration_date': Timestamp('2025-02-21 00:00:00'), 'strike_price': 121.0, 'type': <ContractType.CALL: 'call'>, 'size': 100.0, 'position': 1.0, 'initial_position': 1.0, 'name': 'NVDA Feb 21 2025 121 Call'}), ('NVDA250221C00122000', {'asset_class': 'us_option', 'underlying_symbol': 'NVDA', 'expiration_date': Timestamp('2025-02-21 00:00:00'), 'strike_price': 122.0, 'type': <ContractType.CALL: 'call'>, 'size': 100.0, 'position': 1.0, 'initial_position': 1.0, 'name': 'NVDA Feb 21 2025 122 Call'}), ('NVDA250221C00123000', {'asset_class': 'us_option', 'underlying_symbol': 'NVDA', 'expiration_date': Timestamp('2025-02-21 00:00:00'), 'strike_price': 123.0, 'type': <ContractType.CALL: 'call'>, 'size': 100.0, 'position': 1.0, 'initial_position': 1.0, 'name': 'NVDA Feb 21 2025 123 Call'}), ('NVDA250221C00124000', {'asset_class': 'us_option', 'underlying_symbol': 'NVDA', 'expiration_date': Timestamp('2025-02-21 00:00:00'), 'strike_price': 124.0, 'type': <ContractType.CALL: 'call'>, 'size': 100.0, 'position': 1.0, 'initial_position': 1.0, 'name': 'NVDA Feb 21 2025 124 Call'}), ('NVDA250221C00125000', {'asset_class': 'us_option', 'underlying_symbol': 'NVDA', 'expiration_date': Timestamp('2025-02-21 00:00:00'), 'strike_price': 125.0, 'type': <ContractType.CALL: 'call'>, 'size': 100.0, 'position': 1.0, 'initial_position': 1.0, 'name': 'NVDA Feb 21 2025 125 Call'})])\n",
      "Submitting order to buy 1.0 contracts of NVDA250221C00120000 at market\n",
      "Submitting order to buy 1.0 contracts of NVDA250221C00121000 at market\n",
      "Submitting order to buy 1.0 contracts of NVDA250221C00122000 at market\n",
      "Submitting order to buy 1.0 contracts of NVDA250221C00123000 at market\n",
      "Submitting order to buy 1.0 contracts of NVDA250221C00124000 at market\n",
      "Submitting order to buy 1.0 contracts of NVDA250221C00125000 at market\n",
      "fill event: buy 1.0 NVDA250221C00120000 @ 5.2\n",
      "updating position from 1.0 to 1.0\n",
      "fill event: buy 1.0 NVDA250221C00121000 @ 4.75\n",
      "updating position from 1.0 to 1.0\n",
      "fill event: buy 1.0 NVDA250221C00122000 @ 4.35\n",
      "updating position from 1.0 to 1.0\n",
      "fill event: buy 1.0 NVDA250221C00123000 @ 3.95\n",
      "updating position from 1.0 to 1.0\n",
      "fill event: buy 1.0 NVDA250221C00124000 @ 3.6\n",
      "updating position from 1.0 to 1.0\n",
      "fill event: buy 1.0 NVDA250221C00125000 @ 3.25\n",
      "updating position from 1.0 to 1.0\n",
      "Current price of NVDA is 118.745\n",
      "maintain_delta_neutral 255.9141185039295 118.745\n",
      "Submitting sell order for 256.0 shares of NVDA at market\n",
      "fill event: sell 256.0 NVDA @ 118.72\n",
      "updating position from 0 to -256.0\n",
      "Total Share:  $-256.00\n",
      "Realized P&L: $0.00\n",
      "get_unrealized_pl NVDA\n",
      "Average Cost:: $118.72 , 118.72\n",
      "Equity P&L: $-0.03\n",
      "Option P&L: $-25.00\n",
      "Total P&L: $-25.03\n",
      "Current price of NVDA is 118.585\n",
      "maintain_delta_neutral -3.068350093080852 118.585\n",
      "Submitting buy order for 3.0 shares of NVDA at market\n",
      "fill event: buy 3.0 NVDA @ 118.58\n",
      "updating position from -256.0 to -253.0\n",
      "Total Share:  $-253.00\n",
      "Realized P&L: $0.42\n",
      "get_unrealized_pl NVDA\n",
      "Average Cost:: $118.72 , 118.72\n",
      "Equity P&L: $32.89\n",
      "Option P&L: $-51.00\n",
      "Total P&L: $-18.11\n",
      "Current price of NVDA is 118.69\n",
      "maintain_delta_neutral 2.013444452703723 118.69\n",
      "Current price of NVDA is 118.695\n",
      "maintain_delta_neutral 1.6713342845742076 118.695\n"
     ]
    }
   ],
   "source": [
    "# Main event loop https://alpaca.markets/learn/gamma-scalping\n",
    "\n",
    "loop = asyncio.get_event_loop()\n",
    "loop.run_until_complete(asyncio.gather(\n",
    "    trade_update_stream._run_forever(),\n",
    "    initial_trades(),\n",
    "    gamma_scalp()\n",
    "))\n",
    "loop.close()"
   ]
  }
 ],
 "metadata": {
  "kernelspec": {
   "display_name": "base",
   "language": "python",
   "name": "python3"
  },
  "language_info": {
   "codemirror_mode": {
    "name": "ipython",
    "version": 3
   },
   "file_extension": ".py",
   "mimetype": "text/x-python",
   "name": "python",
   "nbconvert_exporter": "python",
   "pygments_lexer": "ipython3",
   "version": "3.9.19"
  }
 },
 "nbformat": 4,
 "nbformat_minor": 2
}
